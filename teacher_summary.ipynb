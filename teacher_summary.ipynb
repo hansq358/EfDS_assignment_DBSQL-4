{
 "cells": [
  {
   "cell_type": "code",
   "execution_count": 1,
   "metadata": {},
   "outputs": [],
   "source": [
    "from sqlalchemy import * # package providing unified access to various databases\n",
    "from sqlalchemy.orm import *\n",
    "import os                # for checking existence/removing of a file\n",
    "import pandas as pd\n",
    "import matplotlib.pyplot as plt"
   ]
  },
  {
   "cell_type": "code",
   "execution_count": 2,
   "metadata": {},
   "outputs": [],
   "source": [
    "engine = create_engine(\"sqlite:///create.db\",echo=False)\n",
    "session = Session(engine)\n",
    "\n",
    "%load_ext sql\n",
    "%sql sqlite:///create.db"
   ]
  },
  {
   "cell_type": "code",
   "execution_count": 3,
   "metadata": {
    "scrolled": true
   },
   "outputs": [
    {
     "name": "stdout",
     "output_type": "stream",
     "text": [
      "  Universityid        Name                   Email  Taskid          Title  \\\n",
      "0     s3015725  Orla Lloyd  s3015725@leidenuniv.nl       0  Task Title 67   \n",
      "1     s3015725  Orla Lloyd  s3015725@leidenuniv.nl       0  Task Title 67   \n",
      "2     s3015725  Orla Lloyd  s3015725@leidenuniv.nl       0  Task Title 67   \n",
      "3     s3015725  Orla Lloyd  s3015725@leidenuniv.nl       0  Task Title 67   \n",
      "4     s3015725  Orla Lloyd  s3015725@leidenuniv.nl       0  Task Title 67   \n",
      "\n",
      "   Submissionid Evalution Evaluation_request Comments  \\\n",
      "0             1   Pending      Not Requested     None   \n",
      "1             1   Pending      Not Requested     None   \n",
      "2             1   Pending      Not Requested     None   \n",
      "3             1   Pending      Not Requested     None   \n",
      "4             1   Pending      Not Requested     None   \n",
      "\n",
      "                                            Text  \n",
      "0  Example Answer text 67: My solution is ......  \n",
      "1  Example Answer text 67: My solution is ......  \n",
      "2  Example Answer text 67: My solution is ......  \n",
      "3  Example Answer text 67: My solution is ......  \n",
      "4  Example Answer text 67: My solution is ......  \n",
      "  Universityid        Name                   Email  Taskid          Title  \\\n",
      "0     s3015725  Orla Lloyd  s3015725@leidenuniv.nl       0  Task Title 67   \n",
      "1     s3015725  Orla Lloyd  s3015725@leidenuniv.nl       0  Task Title 67   \n",
      "2     s3015725  Orla Lloyd  s3015725@leidenuniv.nl       0  Task Title 67   \n",
      "3     s3015725  Orla Lloyd  s3015725@leidenuniv.nl       0  Task Title 67   \n",
      "4     s3015725  Orla Lloyd  s3015725@leidenuniv.nl       0  Task Title 67   \n",
      "5     s3015725  Orla Lloyd  s3015725@leidenuniv.nl       0  Task Title 67   \n",
      "6     s3015725  Orla Lloyd  s3015725@leidenuniv.nl       0  Task Title 67   \n",
      "\n",
      "   Submissionid Evalution Evaluation_request Comments  \\\n",
      "0             1   Pending      Not Requested     None   \n",
      "1             1   Pending      Not Requested     None   \n",
      "2             1   Pending      Not Requested     None   \n",
      "3             1   Pending      Not Requested     None   \n",
      "4             1   Pending      Not Requested     None   \n",
      "5             1   Pending      Not Requested     None   \n",
      "6             1   Pending      Not Requested     None   \n",
      "\n",
      "                                            Text  \n",
      "0  Example Answer text 67: My solution is ......  \n",
      "1  Example Answer text 67: My solution is ......  \n",
      "2  Example Answer text 67: My solution is ......  \n",
      "3  Example Answer text 67: My solution is ......  \n",
      "4  Example Answer text 67: My solution is ......  \n",
      "5  Example Answer text 67: My solution is ......  \n",
      "6  Example Answer text 67: My solution is ......  \n"
     ]
    },
    {
     "data": {
      "image/png": "[encoded data removed]",
      "text/plain": [
       "<Figure size 432x288 with 1 Axes>"
      ]
     },
     "metadata": {
      "needs_background": "light"
     },
     "output_type": "display_data"
    }
   ],
   "source": [
    "#return a dataframe of teacher summary table\n",
    "def teacherSumDF():\n",
    "    Teacher_summary = pd.read_sql(\"\"\"SELECT Students.Universityid, Students.Name, Students.Email, Task.Taskid, Task.Title,\n",
    "    Submission.Submissionid, Submission.Evaluation_finished AS Evalution, Submission.Evaluation_request, \n",
    "    Submission.Evaluation AS Comments, Answer.text\n",
    "        FROM Students\n",
    "        INNER JOIN Assignment USING (Universityid)\n",
    "        INNER JOIN Task USING (Taskid)\n",
    "        INNER JOIN Submission USING (Assignmentid)\n",
    "        INNER JOIN Answer USING (Submissionid)\"\"\", engine)\n",
    "        \n",
    "    Teacher_summary.loc[Teacher_summary[\"Evalution\"] != 0, \"Evalution\"] = \"Finished\"\n",
    "    Teacher_summary.loc[Teacher_summary[\"Evalution\"] == 0, \"Evalution\"] = \"Pending\"\n",
    "    Teacher_summary.loc[Teacher_summary[\"Evaluation_request\"] != 0, \"Evaluation_request\"] = \"Requested\"\n",
    "    Teacher_summary.loc[Teacher_summary[\"Evaluation_request\"] == 0, \"Evaluation_request\"] = \"Not Requested\"\n",
    "    \n",
    "    return(Teacher_summary)\n",
    "\n",
    "#return a dataframe of a single student evaluation status\n",
    "def singleStudentEval(Universityid):\n",
    "    Teacher_summary = teacherSumDF()\n",
    "    singTeacher_summary = Teacher_summary[Teacher_summary[\"Universityid\"] == Universityid]\n",
    "    \n",
    "    return(singTeacher_summary)\n",
    "    \n",
    "#return a chart showing score distribution of a specified question \n",
    "def scoreChart(Questionid):\n",
    "    a = pd.read_sql(\"\"\"SELECT Students.Universityid, Students.Name, Students.Email, Task.Taskid, Submission.Submissionid,\n",
    "    Score.Value AS Score, Answer.Answerid, Answer.Questionid, Question.Title\n",
    "        FROM Students\n",
    "        INNER JOIN Assignment USING (Universityid)\n",
    "        INNER JOIN Task USING (Taskid)\n",
    "        INNER JOIN Submission USING (Assignmentid)\n",
    "        INNER JOIN Score USING (Submissionid)\n",
    "        INNER JOIN Answer USING (Answerid)\n",
    "        INNER JOIN Question USING (Questionid)\"\"\", engine)\n",
    " \n",
    "    a = a[a['Questionid']== Questionid]\n",
    "    plt.hist(a['Score'])\n",
    "    \n",
    "    plt.title('Score Distribution of Question '+ str(Questionid))\n",
    "    plt.xlabel('Score')\n",
    "    plt.ylabel('Number')\n",
    "    plt.show()\n",
    "    \n",
    "print(teacherSumDF().head())\n",
    "print(singleStudentEval('s3015725'))\n",
    "scoreChart(26)"
   ]
  }
 ],
 "metadata": {
  "kernelspec": {
   "display_name": "Python 3",
   "language": "python",
   "name": "python3"
  },
  "language_info": {
   "codemirror_mode": {
    "name": "ipython",
    "version": 3
   },
   "file_extension": ".py",
   "mimetype": "text/x-python",
   "name": "python",
   "nbconvert_exporter": "python",
   "pygments_lexer": "ipython3",
   "version": "3.8.5"
  }
 },
 "nbformat": 4,
 "nbformat_minor": 4
}
