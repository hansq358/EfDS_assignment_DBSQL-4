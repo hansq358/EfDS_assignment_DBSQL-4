{
 "cells": [
  {
   "cell_type": "code",
   "execution_count": 4,
   "metadata": {},
   "outputs": [],
   "source": [
    "from sqlalchemy import * # package providing unified access to various databases\n",
    "from sqlalchemy.orm import *\n",
    "import os                # for checking existence/removing of a file\n",
    "import pandas as pd"
   ]
  },
  {
   "cell_type": "code",
   "execution_count": 2,
   "metadata": {},
   "outputs": [],
   "source": [
    "engine = create_engine(\"sqlite:///create.db\",echo=False)\n",
    "session = Session(engine)\n",
    "\n",
    "%load_ext sql\n",
    "%sql sqlite:///create.db"
   ]
  },
  {
   "cell_type": "code",
   "execution_count": 37,
   "metadata": {},
   "outputs": [
    {
     "name": "stdout",
     "output_type": "stream",
     "text": [
      "  Universityid       Name                   Email  Taskid  Questionid  Score\n",
      "0     s3015725  Orla Wang  s3015725@leidenuniv.nl       0          26    2.7\n",
      "1     s3015725  Orla Wang  s3015725@leidenuniv.nl       0          28    9.0\n",
      "2     s3015725  Orla Wang  s3015725@leidenuniv.nl       0          35    6.8\n",
      "3     s3015725  Orla Wang  s3015725@leidenuniv.nl       0          40    1.5\n",
      "4     s3015725  Orla Wang  s3015725@leidenuniv.nl       0          47    4.3\n",
      "    Universityid           Name                   Email  Taskid  Questionid  \\\n",
      "623     s3093799  Lena Cummings  s3093799@leidenuniv.nl      89          42   \n",
      "624     s3093799  Lena Cummings  s3093799@leidenuniv.nl      89          47   \n",
      "625     s3093799  Lena Cummings  s3093799@leidenuniv.nl      89          49   \n",
      "626     s3093799  Lena Cummings  s3093799@leidenuniv.nl      89          76   \n",
      "627     s3093799  Lena Cummings  s3093799@leidenuniv.nl      89          82   \n",
      "628     s3093799  Lena Cummings  s3093799@leidenuniv.nl      89          86   \n",
      "629     s3093799  Lena Cummings  s3093799@leidenuniv.nl      89          89   \n",
      "\n",
      "     Score  \n",
      "623    5.3  \n",
      "624    5.2  \n",
      "625    2.5  \n",
      "626    3.7  \n",
      "627    4.0  \n",
      "628    5.6  \n",
      "629   10.0  \n"
     ]
    }
   ],
   "source": [
    "#return a dataframe of student details table\n",
    "def studentDetailsDF():\n",
    "    Students_detail = pd.read_sql(\"\"\"SELECT Students.Universityid, Students.Name, Students.Email, Task.Taskid, Submission.Submissionid,\n",
    "    Score.Value AS Score, Answer.Answerid, Answer.Questionid, Question.Title\n",
    "        FROM Students\n",
    "        INNER JOIN Assignment USING (Universityid)\n",
    "        INNER JOIN Task USING (Taskid)\n",
    "        INNER JOIN Submission USING (Assignmentid)\n",
    "        INNER JOIN Score USING (Submissionid)\n",
    "        INNER JOIN Answer USING (Answerid)\n",
    "        INNER JOIN Question USING (Questionid)\"\"\", engine)\n",
    "    \n",
    "    return(Students_detail[['Universityid','Name','Email','Taskid','Questionid','Score']])\n",
    "\n",
    "#return a row of a single student details table\n",
    "def singleStudentDetailsDF(Universityid):\n",
    "    stu_del = studentDetailsDF()\n",
    "    stu_del_sing = stu_del[stu_del['Universityid'] == Universityid]\n",
    "    \n",
    "    return(stu_del_sing)\n",
    "\n",
    "print(studentDetailsDF().head())\n",
    "print(singleStudentDetailsDF('s3093799'))"
   ]
  }
 ],
 "metadata": {
  "kernelspec": {
   "display_name": "Python 3",
   "language": "python",
   "name": "python3"
  },
  "language_info": {
   "codemirror_mode": {
    "name": "ipython",
    "version": 3
   },
   "file_extension": ".py",
   "mimetype": "text/x-python",
   "name": "python",
   "nbconvert_exporter": "python",
   "pygments_lexer": "ipython3",
   "version": "3.8.5"
  }
 },
 "nbformat": 4,
 "nbformat_minor": 4
}
