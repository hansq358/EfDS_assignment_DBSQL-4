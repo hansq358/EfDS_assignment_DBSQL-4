{
 "cells": [
  {
   "cell_type": "code",
   "execution_count": 1,
   "metadata": {},
   "outputs": [],
   "source": [
    "from sqlalchemy import * # package providing unified access to various databases\n",
    "from sqlalchemy.orm import *\n",
    "import os                # for checking existence/removing of a file\n",
    "import pandas as pd\n",
    "import matplotlib.pyplot as plt"
   ]
  },
  {
   "cell_type": "code",
   "execution_count": 2,
   "metadata": {},
   "outputs": [],
   "source": [
    "engine = create_engine(\"sqlite:///create.db\",echo=False)\n",
    "session = Session(engine)\n",
    "\n",
    "%load_ext sql\n",
    "%sql sqlite:///create.db"
   ]
  },
  {
   "cell_type": "code",
   "execution_count": 3,
   "metadata": {},
   "outputs": [
    {
     "name": "stdout",
     "output_type": "stream",
     "text": [
      "  Universityid           Name                   Email Evalution  Total_Score\n",
      "0     s3002428      Hanna Day  s3002428@leidenuniv.nl   Pending         46.0\n",
      "1     s3003252     Ellie Wolf  s3003252@leidenuniv.nl   Pending         40.1\n",
      "2     s3003316  Reiter Rogers  s3003316@leidenuniv.nl   Pending         35.7\n",
      "3     s3004195    Cora Miller  s3004195@leidenuniv.nl   Pending         25.8\n",
      "4     s3006578   Mary Mcguire  s3006578@leidenuniv.nl   Pending         44.8\n",
      "  Universityid       Name                   Email Evalution  Total_Score\n",
      "0     s3002428  Hanna Day  s3002428@leidenuniv.nl   Pending         46.0\n"
     ]
    },
    {
     "data": {
      "image/png": "[encoded data removed]",
      "text/plain": [
       "<Figure size 432x288 with 1 Axes>"
      ]
     },
     "metadata": {
      "needs_background": "light"
     },
     "output_type": "display_data"
    }
   ],
   "source": [
    "#return a dataframe of student summary table\n",
    "def studentSumDF():\n",
    "    stu_sum = pd.read_sql(\"\"\"\n",
    "SELECT Universityid, Name, Email, Evaluation_finished AS Evalution, SUM(Value) AS Total_Score\n",
    "FROM Students\n",
    "INNER JOIN Assignment USING(Universityid)\n",
    "INNER JOIN Task USING (Taskid)\n",
    "INNER JOIN Submission USING (Assignmentid)\n",
    "INNER JOIN Score USING (Submissionid)\n",
    "GROUP BY Universityid\n",
    "\"\"\", engine)\n",
    "    stu_sum.loc[stu_sum[\"Evalution\"] != 0, \"Evalution\"] = \"Finished\"\n",
    "    stu_sum.loc[stu_sum[\"Evalution\"] == 0, \"Evalution\"] = \"Pending\"\n",
    "    \n",
    "    return(stu_sum)\n",
    "\n",
    "#return a row of a single student summary table\n",
    "def singleStudentSumDF(Universityid):\n",
    "    stu_sum = studentSumDF()\n",
    "    stu_sing = stu_sum[stu_sum['Universityid'] == Universityid]\n",
    "    \n",
    "    return(stu_sing)\n",
    "\n",
    "#return a chart showing score distribution of a specified question \n",
    "def scoreChart(Universityid, Questionid):\n",
    "    a = pd.read_sql(\"\"\"SELECT Students.Universityid, Students.Name, Students.Email, Task.Taskid, Submission.Submissionid,\n",
    "    Score.Value AS Score, Answer.Answerid, Answer.Questionid, Question.Title\n",
    "        FROM Students\n",
    "        INNER JOIN Assignment USING (Universityid)\n",
    "        INNER JOIN Task USING (Taskid)\n",
    "        INNER JOIN Submission USING (Assignmentid)\n",
    "        INNER JOIN Score USING (Submissionid)\n",
    "        INNER JOIN Answer USING (Answerid)\n",
    "        INNER JOIN Question USING (Questionid)\"\"\", engine)\n",
    " \n",
    "    a = a[a['Questionid']== Questionid]\n",
    "    score = a.loc[a['Universityid'] == Universityid]['Score'][0]\n",
    "    \n",
    "    plt.hist(a['Score'])\n",
    "    plt.title('Question ' + str(Questionid) + ', Your score: ' + str(score))\n",
    "    plt.xlabel('Score')\n",
    "    plt.ylabel('Number')\n",
    "    plt.show()\n",
    "\n",
    "print(studentSumDF().head())\n",
    "print(singleStudentSumDF('s3002428'))\n",
    "scoreChart('s3015725', 26)"
   ]
  }
 ],
 "metadata": {
  "kernelspec": {
   "display_name": "Python 3",
   "language": "python",
   "name": "python3"
  },
  "language_info": {
   "codemirror_mode": {
    "name": "ipython",
    "version": 3
   },
   "file_extension": ".py",
   "mimetype": "text/x-python",
   "name": "python",
   "nbconvert_exporter": "python",
   "pygments_lexer": "ipython3",
   "version": "3.8.5"
  }
 },
 "nbformat": 4,
 "nbformat_minor": 4
}
